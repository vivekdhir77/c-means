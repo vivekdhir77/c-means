{
 "cells": [
  {
   "cell_type": "code",
   "execution_count": null,
   "id": "498acced",
   "metadata": {},
   "outputs": [],
   "source": [
    "df = [\n",
    "    [5.1, 3.5, 1.4, 0.2],\n",
    "    [4.9, 3, 1.4, 0.2],\n",
    "    [4.7, 3.2, 1.3, 0.2],\n",
    "    [7, 3.2, 4.7, 1.4],\n",
    "    [6.4, 3.2, 4.5, 1.5],\n",
    "    [6.9, 3.1, 4.9, 1.5],\n",
    "    [5.6, 2.7, 4.2, 1.3],\n",
    "    [6.3, 3.3, 6, 2.5],\n",
    "    [5.8, 2.7, 5.1, 1.9],\n",
    "    [7.1, 3, 5.9, 2.1],\n",
    "     ] # points\n",
    "\n",
    "c = [2, 4, 6] # random centroid index\n",
    "\n",
    "dist = [[0 for i in range(len(df))] for j in range(len(c))] # 2d Distance matrix\n",
    "dist"
   ]
  },
  {
   "cell_type": "code",
   "execution_count": null,
   "id": "cb3ae8a9",
   "metadata": {},
   "outputs": [],
   "source": [
    "import math\n",
    "def getDistance(centroid, point):\n",
    "    dist = 0;\n",
    "    for i in range(len(point)):\n",
    "        dist += ((point[i]-centroid[i])**2)\n",
    "    return math.sqrt(dist) # distance between 2 points\n",
    "row = 0\n",
    "\n",
    "for i in c: #calculating distance matrix\n",
    "    centroid = df[i]\n",
    "    colum = 0\n",
    "    for j in df:\n",
    "        leng = getDistance(centroid, j)\n",
    "        dist[row][colum] = leng\n",
    "        colum+=1\n",
    "    row+=1\n",
    "dist"
   ]
  },
  {
   "cell_type": "code",
   "execution_count": null,
   "id": "0a68316e",
   "metadata": {},
   "outputs": [],
   "source": [
    "m = 2 # membership value\n",
    "\n",
    "mem = [[0 for i in range(len(df))] for j in range(len(c))] #initializing memebership matrix\n",
    "mem"
   ]
  },
  {
   "cell_type": "code",
   "execution_count": null,
   "id": "1133607d",
   "metadata": {},
   "outputs": [],
   "source": [
    "def memb(dist, i,j,m): # formula for membership\n",
    "    numerator = 0 \n",
    "    if(dist[j][i]!=0):\n",
    "        numerator = (1/dist[j][i])**(1/(m-1))\n",
    "    else:\n",
    "        return 0\n",
    "    denominator=0\n",
    "    for k in range(len(dist)):    \n",
    "        if(dist[k][i]!=0):\n",
    "            denominator += (1/dist[k][i])**(1/(m-1)) \n",
    "    return numerator/denominator \n",
    "\n",
    "for i in range(len(mem)): #calculating membership values\n",
    "    for j in range(len(mem[0])):\n",
    "        mem[i][j] = memb(dist, j, i, m)\n",
    "print(mem)\n",
    "        "
   ]
  },
  {
   "cell_type": "code",
   "execution_count": null,
   "id": "83a1234a",
   "metadata": {},
   "outputs": [],
   "source": [
    "#checking if sum of membership values for each centroid is 1\n",
    "mem_final = [mem[0][i]+mem[1][i]+mem[2][i] for i in range(len(mem[0]))] \n",
    "print(mem_final)"
   ]
  },
  {
   "cell_type": "code",
   "execution_count": null,
   "id": "703f9f3e",
   "metadata": {},
   "outputs": [],
   "source": [
    "# calculating new centroid using membership\n",
    "new_centroid = []\n",
    "for j in range(len(c)):\n",
    "    new_center = [0 for i in range(len(df[0]))] # the numerator part for calculating new centroid\n",
    "    denominator = 0\n",
    "    for i in range(len(mem)):\n",
    "        new_center =  [sum(y) for y in zip( new_center, [x*(mem[j][i]**m) for x in df[i]] )]\n",
    "        denominator += (mem[j][i]**m)\n",
    "    new_centroid.append([numerator/denominator for numerator in new_center])\n",
    "print(new_centroid)"
   ]
  },
  {
   "cell_type": "code",
   "execution_count": null,
   "id": "2464b55a",
   "metadata": {},
   "outputs": [],
   "source": [
    "# ignore - just some testing\n",
    "x = [1, 2, 3]\n",
    "y = [2, 3, 4]\n",
    "for i in zip(x, y):\n",
    "    print(sum(i))"
   ]
  },
  {
   "cell_type": "code",
   "execution_count": null,
   "id": "8f87f910",
   "metadata": {},
   "outputs": [],
   "source": [
    "# calculating objective for new centroid\n",
    "obj_func = 0\n",
    "def norm_square(x,c):\n",
    "    ans = 0\n",
    "    for i in zip(x,c):\n",
    "        ans+=((i[0]-i[1])**2)\n",
    "        \n",
    "    return ans\n",
    "for i in range(len(df)):\n",
    "    for j in range(len(c)):\n",
    "        obj_func += (mem[j][i]**m)*(norm_square(df[i],new_centroid[j]))\n",
    "print(obj_func)"
   ]
  },
  {
   "cell_type": "code",
   "execution_count": null,
   "id": "ddbb87de",
   "metadata": {},
   "outputs": [],
   "source": [
    "# calculating objective for old centroids\n",
    "old_obj_func = 0\n",
    "\n",
    "def norm_square(x,c):\n",
    "    ans = 0\n",
    "    for i in zip(x,c):\n",
    "        ans+=((i[0]-i[1])**2)\n",
    "        \n",
    "    return ans\n",
    "for i in range(len(df)):\n",
    "    for j in range(len(c)):\n",
    "        old_obj_func += (mem[j][i]**m)*(norm_square(df[i],df[c[j]]))\n",
    "print(old_obj_func)"
   ]
  },
  {
   "cell_type": "code",
   "execution_count": null,
   "id": "7eb1e3f3",
   "metadata": {},
   "outputs": [],
   "source": [
    "# stopping criteria 1\n",
    "norm_obj_fun = (obj_func-old_obj_func)\n",
    "print(norm_obj_fun)"
   ]
  },
  {
   "cell_type": "code",
   "execution_count": null,
   "id": "ca66c1f7",
   "metadata": {},
   "outputs": [],
   "source": [
    "# stopping criteria 2\n",
    "center_diff = [norm_square(new_centroid[i], df[c[i]]) for i in range(len(c))]\n",
    "center_diff"
   ]
  },
  {
   "cell_type": "code",
   "execution_count": null,
   "id": "44e9e71b",
   "metadata": {},
   "outputs": [],
   "source": []
  }
 ],
 "metadata": {
  "kernelspec": {
   "display_name": "Python 3",
   "language": "python",
   "name": "python3"
  },
  "language_info": {
   "codemirror_mode": {
    "name": "ipython",
    "version": 3
   },
   "file_extension": ".py",
   "mimetype": "text/x-python",
   "name": "python",
   "nbconvert_exporter": "python",
   "pygments_lexer": "ipython3",
   "version": "3.10.10"
  },
  "vscode": {
   "interpreter": {
    "hash": "36a0d8ae7ea53d0c2bb98a357b7e4d666f857d54e9cfe25daaf029ef2b61f7f5"
   }
  }
 },
 "nbformat": 4,
 "nbformat_minor": 5
}
