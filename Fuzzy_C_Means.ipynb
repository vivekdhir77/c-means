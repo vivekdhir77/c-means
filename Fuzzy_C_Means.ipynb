{
 "cells": [
  {
   "cell_type": "code",
   "execution_count": 1,
   "id": "498acced",
   "metadata": {},
   "outputs": [
    {
     "data": {
      "text/plain": [
       "[[0, 0, 0, 0, 0, 0, 0, 0, 0, 0],\n",
       " [0, 0, 0, 0, 0, 0, 0, 0, 0, 0],\n",
       " [0, 0, 0, 0, 0, 0, 0, 0, 0, 0]]"
      ]
     },
     "execution_count": 1,
     "metadata": {},
     "output_type": "execute_result"
    }
   ],
   "source": [
    "df = [\n",
    "    [5.1, 3.5, 1.4, 0.2],\n",
    "    [4.9, 3, 1.4, 0.2],\n",
    "    [4.7, 3.2, 1.3, 0.2],\n",
    "    [7, 3.2, 4.7, 1.4],\n",
    "    [6.4, 3.2, 4.5, 1.5],\n",
    "    [6.9, 3.1, 4.9, 1.5],\n",
    "    [5.6, 2.7, 4.2, 1.3],\n",
    "    [6.3, 3.3, 6, 2.5],\n",
    "    [5.8, 2.7, 5.1, 1.9],\n",
    "    [7.1, 3, 5.9, 2.1],\n",
    "     ] # points\n",
    "\n",
    "c = [2, 4, 6] # random centroid index\n",
    "\n",
    "dist = [[0 for i in range(len(df))] for j in range(len(c))] # 2d Distance matrix\n",
    "dist"
   ]
  },
  {
   "cell_type": "code",
   "execution_count": 2,
   "id": "cb3ae8a9",
   "metadata": {},
   "outputs": [
    {
     "data": {
      "text/plain": [
       "[[0.509901951359278,\n",
       "  0.30000000000000016,\n",
       "  0.0,\n",
       "  4.27668095606862,\n",
       "  3.849675310984032,\n",
       "  4.415880433163924,\n",
       "  3.2680269276736387,\n",
       "  5.472659317004851,\n",
       "  4.334743360338648,\n",
       "  5.529014378711635],\n",
       " [3.6166282640050254,\n",
       "  3.6864617182333523,\n",
       "  3.849675310984032,\n",
       "  0.6403124237432847,\n",
       "  0.0,\n",
       "  0.6480740698407862,\n",
       "  1.0099504938362083,\n",
       "  1.8083141320025125,\n",
       "  1.063014581273465,\n",
       "  1.6881943016134133],\n",
       " [3.1527765540868895,\n",
       "  3.10322412983658,\n",
       "  3.2680269276736387,\n",
       "  1.5716233645501714,\n",
       "  1.0099504938362083,\n",
       "  1.5427248620541518,\n",
       "  0.0,\n",
       "  2.351595203260969,\n",
       "  1.0999999999999994,\n",
       "  2.4228082879171438]]"
      ]
     },
     "execution_count": 2,
     "metadata": {},
     "output_type": "execute_result"
    }
   ],
   "source": [
    "import math\n",
    "def getDistance(centroid, point):\n",
    "    dist = 0;\n",
    "    for i in range(len(point)):\n",
    "        dist += ((point[i]-centroid[i])**2)\n",
    "    return math.sqrt(dist) # distance between 2 points\n",
    "row = 0\n",
    "\n",
    "for i in c: #calculating distance matrix\n",
    "    centroid = df[i]\n",
    "    colum = 0\n",
    "    for j in df:\n",
    "        leng = getDistance(centroid, j)\n",
    "        dist[row][colum] = leng\n",
    "        colum+=1\n",
    "    row+=1\n",
    "dist"
   ]
  },
  {
   "cell_type": "code",
   "execution_count": 3,
   "id": "0a68316e",
   "metadata": {},
   "outputs": [
    {
     "data": {
      "text/plain": [
       "[[0, 0, 0, 0, 0, 0, 0, 0, 0, 0],\n",
       " [0, 0, 0, 0, 0, 0, 0, 0, 0, 0],\n",
       " [0, 0, 0, 0, 0, 0, 0, 0, 0, 0]]"
      ]
     },
     "execution_count": 3,
     "metadata": {},
     "output_type": "execute_result"
    }
   ],
   "source": [
    "m = 2 # membership value\n",
    "\n",
    "mem = [[0 for i in range(len(df))] for j in range(len(c))] #initializing memebership matrix\n",
    "mem"
   ]
  },
  {
   "cell_type": "code",
   "execution_count": 4,
   "id": "1133607d",
   "metadata": {},
   "outputs": [
    {
     "name": "stdout",
     "output_type": "stream",
     "text": [
      "[[0.7676250806752793, 0.8488586072603843, 0, 0.09615162300331491, 0.2078247450316942, 0.09366592097719702, 0.23608130532857316, 0.15739111058293817, 0.11088368472770639, 0.1525047241126306], [0.10822608738759343, 0.06907913377170613, 0.4591407195884548, 0.6422018373303177, 0, 0.6382256704069289, 0.7639186946714268, 0.4763264924505167, 0.4521596642329212, 0.49946905497449884], [0.12414883193712715, 0.08206225896790963, 0.5408592804115452, 0.2616465396663675, 0.7921752549683058, 0.26810840861587415, 0, 0.366282396966545, 0.4369566510393723, 0.34802622091287055]]\n"
     ]
    }
   ],
   "source": [
    "def memb(dist, i,j,m): # formula for membership\n",
    "    numerator = 0 \n",
    "    if(dist[j][i]!=0):\n",
    "        numerator = (1/dist[j][i])**(1/(m-1))\n",
    "    else:\n",
    "        return 0\n",
    "    denominator=0\n",
    "    for k in range(len(dist)):    \n",
    "        if(dist[k][i]!=0):\n",
    "            denominator += (1/dist[k][i])**(1/(m-1)) \n",
    "    return numerator/denominator \n",
    "\n",
    "for i in range(len(mem)): #calculating membership values\n",
    "    for j in range(len(mem[0])):\n",
    "        mem[i][j] = memb(dist, j, i, m)\n",
    "print(mem)\n",
    "        "
   ]
  },
  {
   "cell_type": "code",
   "execution_count": 5,
   "id": "83a1234a",
   "metadata": {},
   "outputs": [
    {
     "name": "stdout",
     "output_type": "stream",
     "text": [
      "[0.9999999999999999, 1.0, 1.0, 1.0, 1.0, 1.0, 1.0, 1.0, 0.9999999999999999, 1.0]\n"
     ]
    }
   ],
   "source": [
    "#checking if sum of membership values for each centroid is 1\n",
    "mem_final = [mem[0][i]+mem[1][i]+mem[2][i] for i in range(len(mem[0]))] \n",
    "print(mem_final)"
   ]
  },
  {
   "cell_type": "code",
   "execution_count": 6,
   "id": "703f9f3e",
   "metadata": {},
   "outputs": [
    {
     "name": "stdout",
     "output_type": "stream",
     "text": [
      "[[4.989974671831726, 3.2249366795793173, 1.4, 0.2], [4.724811541899458, 3.2112606098037615, 1.3072526064206975, 0.2], [4.723872230654894, 3.2104140062472037, 1.3070380814842903, 0.2]]\n"
     ]
    }
   ],
   "source": [
    "# calculating new centroid using membership\n",
    "new_centroid = []\n",
    "for j in range(len(c)):\n",
    "    new_center = [0 for i in range(len(df[0]))] # the numerator part for calculating new centroid\n",
    "    denominator = 0\n",
    "    for i in range(len(mem)):\n",
    "        new_center =  [sum(y) for y in zip( new_center, [x*(mem[j][i]**m) for x in df[i]] )]\n",
    "        denominator += (mem[j][i]**m)\n",
    "    new_centroid.append([numerator/denominator for numerator in new_center])\n",
    "print(new_centroid)"
   ]
  },
  {
   "cell_type": "code",
   "execution_count": 7,
   "id": "2464b55a",
   "metadata": {},
   "outputs": [
    {
     "name": "stdout",
     "output_type": "stream",
     "text": [
      "3\n",
      "5\n",
      "7\n"
     ]
    }
   ],
   "source": [
    "# ignore - just some testing\n",
    "x = [1, 2, 3]\n",
    "y = [2, 3, 4]\n",
    "for i in zip(x, y):\n",
    "    print(sum(i))"
   ]
  },
  {
   "cell_type": "code",
   "execution_count": 8,
   "id": "8f87f910",
   "metadata": {},
   "outputs": [
    {
     "name": "stdout",
     "output_type": "stream",
     "text": [
      "65.90609692620042\n"
     ]
    }
   ],
   "source": [
    "# calculating objective for new centroid\n",
    "obj_func = 0\n",
    "def norm_square(x,c):\n",
    "    ans = 0\n",
    "    for i in zip(x,c):\n",
    "        ans+=((i[0]-i[1])**2)\n",
    "        \n",
    "    return ans\n",
    "for i in range(len(df)):\n",
    "    for j in range(len(c)):\n",
    "        obj_func += (mem[j][i]**m)*(norm_square(df[i],new_centroid[j]))\n",
    "print(obj_func)"
   ]
  },
  {
   "cell_type": "code",
   "execution_count": 9,
   "id": "ddbb87de",
   "metadata": {},
   "outputs": [
    {
     "name": "stdout",
     "output_type": "stream",
     "text": [
      "15.445573186834864\n"
     ]
    }
   ],
   "source": [
    "# calculating objective for old centroids\n",
    "old_obj_func = 0\n",
    "\n",
    "def norm_square(x,c):\n",
    "    ans = 0\n",
    "    for i in zip(x,c):\n",
    "        ans+=((i[0]-i[1])**2)\n",
    "        \n",
    "    return ans\n",
    "for i in range(len(df)):\n",
    "    for j in range(len(c)):\n",
    "        old_obj_func += (mem[j][i]**m)*(norm_square(df[i],df[c[j]]))\n",
    "print(old_obj_func)"
   ]
  },
  {
   "cell_type": "code",
   "execution_count": 10,
   "id": "7eb1e3f3",
   "metadata": {},
   "outputs": [
    {
     "name": "stdout",
     "output_type": "stream",
     "text": [
      "50.460523739365556\n"
     ]
    }
   ],
   "source": [
    "# stopping criteria 1\n",
    "norm_obj_fun = (obj_func-old_obj_func)\n",
    "print(norm_obj_fun)"
   ]
  },
  {
   "cell_type": "code",
   "execution_count": 11,
   "id": "ca66c1f7",
   "metadata": {},
   "outputs": [
    {
     "data": {
      "text/plain": [
       "[0.09470714829235882, 14.690019090693854, 10.60735098797305]"
      ]
     },
     "execution_count": 11,
     "metadata": {},
     "output_type": "execute_result"
    }
   ],
   "source": [
    "# stopping criteria 2\n",
    "center_diff = [norm_square(new_centroid[i], df[c[i]]) for i in range(len(c))]\n",
    "center_diff"
   ]
  },
  {
   "cell_type": "code",
   "execution_count": null,
   "id": "44e9e71b",
   "metadata": {},
   "outputs": [],
   "source": []
  }
 ],
 "metadata": {
  "kernelspec": {
   "display_name": "Python 3",
   "language": "python",
   "name": "python3"
  },
  "language_info": {
   "codemirror_mode": {
    "name": "ipython",
    "version": 3
   },
   "file_extension": ".py",
   "mimetype": "text/x-python",
   "name": "python",
   "nbconvert_exporter": "python",
   "pygments_lexer": "ipython3",
   "version": "3.9.4"
  }
 },
 "nbformat": 4,
 "nbformat_minor": 5
}
